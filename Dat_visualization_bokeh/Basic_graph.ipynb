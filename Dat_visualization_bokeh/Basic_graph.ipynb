{
 "cells": [
  {
   "cell_type": "code",
   "execution_count": 40,
   "metadata": {},
   "outputs": [],
   "source": [
    "#making a basic line graphg\n",
    "\n",
    "from bokeh.plotting import figure\n",
    "from bokeh.io import output_file, show\n",
    "\n",
    "\n",
    "x =[1,2,3,4,5]\n",
    "y = [6,7,8,9,10]\n",
    "\n",
    "\n",
    "output_file(\"Line.html\")\n",
    "\n",
    "f=figure()\n",
    "\n",
    "f.triangle(x,y)\n",
    "\n",
    "show(f)"
   ]
  },
  {
   "cell_type": "code",
   "execution_count": 47,
   "metadata": {},
   "outputs": [],
   "source": [
    "#making a basic line graphg\n",
    "\n",
    "from bokeh.plotting import figure\n",
    "from bokeh.io import output_file, show\n",
    "import pandas\n",
    "\n",
    "df= pandas.read_csv(\"bachelors.csv\") \n",
    "\n",
    "x = df[\"Year\"]\n",
    "y = df[\"Engineering\"]\n",
    "\n",
    "\n",
    "output_file(\"Line_CSV.html\")\n",
    "\n",
    "f=figure()\n",
    "\n",
    "f.line(x,y)\n",
    "\n",
    "show(f)"
   ]
  },
  {
   "cell_type": "code",
   "execution_count": 65,
   "metadata": {},
   "outputs": [],
   "source": [
    "import pandas\n",
    "from bokeh.plotting import figure, output_file, show\n",
    "df = pandas.read_excel(\"data_y.xlsx\")\n",
    "df[\"Temperature\"] =df[\"Temperature\"]/10\n",
    "df[\"Pressure\"] =df[\"Pressure\"]/10\n",
    "p = figure(plot_width=500,plot_height=400, tools='pan')\n",
    "p.title.text=\"Temperature And Air Pressure\"\n",
    "p.title.text_color=\"Gray\"\n",
    "p.title.text_font=\"times\"\n",
    "p.title.text_font_style=\"bold\"\n",
    "p.xaxis.minor_tick_line_color=None\n",
    "p.yaxis.minor_tick_line_color=None\n",
    "p.xaxis.axis_label=\"Pressure(hpa)\"\n",
    "p.yaxis.axis_label=\"Temperature(*C)\"\n",
    "\n",
    "p.circle(df[\"Temperature\"],df[\"Pressure\"],size=1)\n",
    "output_file(\"graph.html\")\n",
    "show(p)"
   ]
  },
  {
   "cell_type": "code",
   "execution_count": 67,
   "metadata": {},
   "outputs": [
    {
     "name": "stdout",
     "output_type": "stream",
     "text": [
      "Defaulting to user installation because normal site-packages is not writeable\n",
      "Requirement already satisfied: xlrd in /home/atom/.local/lib/python3.6/site-packages (1.2.0)\n"
     ]
    }
   ],
   "source": [
    "!pip3 install xlrd"
   ]
  },
  {
   "cell_type": "code",
   "execution_count": 72,
   "metadata": {},
   "outputs": [],
   "source": [
    "from bokeh.plotting import figure, output_file, show\n",
    "p = figure(plot_width=500, plot_height=400, tools = 'pan, reset')\n",
    "p.title.text = \"Earthquakes\"\n",
    "p.title.text_color = \"Orange\"\n",
    "p.title.text_font = \"times\"\n",
    "p.title.text_font_style = \"italic\"\n",
    "p.yaxis.minor_tick_line_color = \"Yellow\"\n",
    "p.xaxis.axis_label = \"Times\"\n",
    "p.yaxis.axis_label = \"Value\"\n",
    "p.circle([1,2,3,4,5], [5,6,5,5,3], size = [i*2 for i in [8,12,14,15,20]], color=\"red\", alpha=0.5)\n",
    "output_file(\"Scatter_plotting.html\")\n",
    "show(p)"
   ]
  },
  {
   "cell_type": "code",
   "execution_count": 86,
   "metadata": {},
   "outputs": [
    {
     "ename": "TypeError",
     "evalue": "parser_f() got an unexpected keyword argument 'parse_data'",
     "output_type": "error",
     "traceback": [
      "\u001b[0;31m---------------------------------------------------------------------------\u001b[0m",
      "\u001b[0;31mTypeError\u001b[0m                                 Traceback (most recent call last)",
      "\u001b[0;32m<ipython-input-86-c43124ad0847>\u001b[0m in \u001b[0;36m<module>\u001b[0;34m\u001b[0m\n\u001b[1;32m      2\u001b[0m \u001b[0;32mimport\u001b[0m \u001b[0mpandas\u001b[0m\u001b[0;34m\u001b[0m\u001b[0;34m\u001b[0m\u001b[0m\n\u001b[1;32m      3\u001b[0m \u001b[0;34m\u001b[0m\u001b[0m\n\u001b[0;32m----> 4\u001b[0;31m \u001b[0mdf\u001b[0m\u001b[0;34m=\u001b[0m\u001b[0mpandas\u001b[0m\u001b[0;34m.\u001b[0m\u001b[0mread_csv\u001b[0m\u001b[0;34m(\u001b[0m\u001b[0;34m\"abd.csv\"\u001b[0m\u001b[0;34m,\u001b[0m\u001b[0mencoding\u001b[0m\u001b[0;34m=\u001b[0m\u001b[0;34m\"utf-8\"\u001b[0m\u001b[0;34m,\u001b[0m\u001b[0mparse_data\u001b[0m \u001b[0;34m=\u001b[0m\u001b[0;34m[\u001b[0m\u001b[0;34m\"Data\"\u001b[0m\u001b[0;34m]\u001b[0m\u001b[0;34m)\u001b[0m\u001b[0;34m\u001b[0m\u001b[0;34m\u001b[0m\u001b[0m\n\u001b[0m\u001b[1;32m      5\u001b[0m \u001b[0mp\u001b[0m\u001b[0;34m=\u001b[0m\u001b[0mfigure\u001b[0m\u001b[0;34m(\u001b[0m\u001b[0mwidth\u001b[0m\u001b[0;34m=\u001b[0m\u001b[0;36m500\u001b[0m\u001b[0;34m,\u001b[0m\u001b[0mheight\u001b[0m\u001b[0;34m=\u001b[0m\u001b[0;36m250\u001b[0m\u001b[0;34m,\u001b[0m\u001b[0mx_axis_type\u001b[0m\u001b[0;34m=\u001b[0m\u001b[0;34m\"datetime\"\u001b[0m\u001b[0;34m)\u001b[0m\u001b[0;34m\u001b[0m\u001b[0;34m\u001b[0m\u001b[0m\n\u001b[1;32m      6\u001b[0m \u001b[0;34m\u001b[0m\u001b[0m\n",
      "\u001b[0;31mTypeError\u001b[0m: parser_f() got an unexpected keyword argument 'parse_data'"
     ]
    }
   ],
   "source": [
    "from bokeh.plotting import figure, output_file, show\n",
    "import pandas\n",
    "\n",
    "df=pandas.read_csv(\"abd.csv\",encoding=\"utf-8\",parse_data =[\"Data\"])\n",
    "p=figure(width=500,height=250,x_axis_type=\"datetime\")\n",
    "\n",
    "p.line(df[\"Date\"],df[\"Close\"],color=\"Orange\", alpha=0.5)\n",
    "\n",
    "output_file(\"TimeSeries.html\")\n",
    "show(p)"
   ]
  },
  {
   "cell_type": "code",
   "execution_count": null,
   "metadata": {},
   "outputs": [],
   "source": []
  }
 ],
 "metadata": {
  "kernelspec": {
   "display_name": "Python 3.5.2 64-bit",
   "language": "python",
   "name": "python35264bitb4105fd8fc2d4821a6b68d52c641128c"
  },
  "language_info": {
   "codemirror_mode": {
    "name": "ipython",
    "version": 3
   },
   "file_extension": ".py",
   "mimetype": "text/x-python",
   "name": "python",
   "nbconvert_exporter": "python",
   "pygments_lexer": "ipython3",
   "version": "3.6.10"
  }
 },
 "nbformat": 4,
 "nbformat_minor": 4
}
