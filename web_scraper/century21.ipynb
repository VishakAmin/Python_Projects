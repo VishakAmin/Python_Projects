{
 "cells": [
  {
   "cell_type": "code",
   "execution_count": 2,
   "metadata": {},
   "outputs": [
    {
     "data": {
      "text/plain": [
       "'$725,000'"
      ]
     },
     "execution_count": 2,
     "metadata": {},
     "output_type": "execute_result"
    }
   ],
   "source": [
    "import requests\n",
    "from bs4 import BeautifulSoup\n",
    "\n",
    "r = requests.get(\"http://www.pyclass.com/real-estate/rock-springs-wy/LCWYROCKSPRINGS/\", headers={'User-agent': 'Mozilla/5.0 (X11; Ubuntu; Linux x86_64; rv:61.0) Gecko/20100101 Firefox/61.0'})\n",
    "\n",
    "c = r.content\n",
    "\n",
    "\n",
    "soup = BeautifulSoup(c,\"html.parser\")\n",
    "\n",
    "#print(soup.prettify())\n",
    "\n",
    "\n",
    "all = soup.find_all(\"div\",{\"class\":\"propertyRow\"})\n",
    "\n",
    "all[0].find(\"h4\",{\"class\":\"propPrice\"}).text.replace(\"\\n\",\"\").replace(\" \",\"\")"
   ]
  },
  {
   "cell_type": "code",
   "execution_count": 35,
   "metadata": {},
   "outputs": [],
   "source": [
    "l=[]\n",
    "for item in all:\n",
    "    d={}\n",
    "    \n",
    "    d[\"Price\"]=item.find(\"h4\",{\"class\",\"propPrice\"}).text.replace(\"\\n\",\"\").replace(\" \",\"\")\n",
    "    d[\"Address\"]=item.find_all(\"span\",{\"class\",\"propAddressCollapse\"})[0].text\n",
    "    d[\"Locality\"]=item.find_all(\"span\",{\"class\",\"propAddressCollapse\"})[1].text\n",
    "    try:   \n",
    "        d[\"Beds\"]=item.find(\"span\",{\"class\":\"infoBed\"}).find(\"b\").text\n",
    "    except:\n",
    "        d[\"Beds\"]=None\n",
    "    try:   \n",
    "        d[\"Area\"]=item.find(\"span\",{\"class\":\"infoSqFt\"}).find(\"b\").text\n",
    "    except:\n",
    "        d[\"Area\"]=None\n",
    "    try:   \n",
    "        d[\"Full Baths\"]=item.find(\"span\",{\"class\":\"infoValueFullBath\"}).find(\"b\").text\n",
    "    except:\n",
    "        d[\"Full Baths\"] = None\n",
    "    try:   \n",
    "        d[\"Hals baths\"]=item.find(\"span\",{\"class\":\"infoValueHalfBath\"}).find(\"b\").text\n",
    "    except:\n",
    "        d[\"Half Bath\"]=None\n",
    "        \n",
    "    for column_group in item.find_all(\"div\",{\"class\":\"columnGroup\"}):    \n",
    "        #print(column_group)\n",
    "        for feature_group,feature_name in zip(column_group.find_all(\"span\",{\"class\":\"featureGroup\"}), column_group.find_all(\"span\",{\"class\":\"featureName\"})):\n",
    "            #print(feature_group.text, feature_name.text)\n",
    "            if \"Lot Size\" in feature_group.text:\n",
    "                d[\"Lot Size\"]=feature_name.text\n",
    "    l.append(d)"
   ]
  },
  {
   "cell_type": "code",
   "execution_count": 27,
   "metadata": {},
   "outputs": [
    {
     "name": "stdout",
     "output_type": "stream",
     "text": [
      "[{'Price': '$725,000', 'Address': '0 Gateway', 'Locality': 'Rock Springs, WY 82901', 'Beds': None, 'Area': None, 'Full Baths': None, 'Half Bath': None}, {'Price': '$452,900', 'Address': '1003 Winchester Blvd.', 'Locality': 'Rock Springs, WY 82901', 'Beds': '4', 'Area': None, 'Full Baths': '4', 'Half Bath': None, 'Lot Size': 'Lot Size:\\xa0'}, {'Price': '$396,900', 'Address': '600 Talladega', 'Locality': 'Rock Springs, WY 82901', 'Beds': '5', 'Area': '3,154', 'Full Baths': '3', 'Half Bath': None}, {'Price': '$389,900', 'Address': '3239 Spearhead Way', 'Locality': 'Rock Springs, WY 82901', 'Beds': '4', 'Area': '3,076', 'Full Baths': '3', 'Hals baths': '1', 'Lot Size': 'Lot Size:\\xa0'}, {'Price': '$254,000', 'Address': '522 Emerald Street', 'Locality': 'Rock Springs, WY 82901', 'Beds': '3', 'Area': '1,172', 'Full Baths': '3', 'Half Bath': None, 'Lot Size': 'Lot Size:\\xa0'}, {'Price': '$252,900', 'Address': \"1302 Veteran's Drive\", 'Locality': 'Rock Springs, WY 82901', 'Beds': '4', 'Area': '1,932', 'Full Baths': '2', 'Half Bath': None, 'Lot Size': 'Lot Size:\\xa0'}, {'Price': '$210,000', 'Address': '1021 Cypress Cir', 'Locality': 'Rock Springs, WY 82901', 'Beds': '4', 'Area': '1,676', 'Full Baths': '3', 'Half Bath': None, 'Lot Size': 'Lot Size:\\xa0'}, {'Price': '$209,000', 'Address': '913 Madison Dr', 'Locality': 'Rock Springs, WY 82901', 'Beds': '3', 'Area': '1,344', 'Full Baths': '2', 'Half Bath': None, 'Lot Size': 'Lot Size:\\xa0'}, {'Price': '$199,900', 'Address': '1344 Teton Street', 'Locality': 'Rock Springs, WY 82901', 'Beds': '3', 'Area': '1,920', 'Full Baths': '2', 'Half Bath': None, 'Lot Size': 'Lot Size:\\xa0'}, {'Price': '$196,900', 'Address': '4 Minnies Lane', 'Locality': 'Rock Springs, WY 82901', 'Beds': '3', 'Area': '1,664', 'Full Baths': '2', 'Half Bath': None, 'Lot Size': 'Lot Size:\\xa0'}]\n"
     ]
    }
   ],
   "source": [
    "print(l)"
   ]
  },
  {
   "cell_type": "code",
   "execution_count": 29,
   "metadata": {},
   "outputs": [
    {
     "data": {
      "text/plain": [
       "10"
      ]
     },
     "execution_count": 29,
     "metadata": {},
     "output_type": "execute_result"
    }
   ],
   "source": [
    "len(l)"
   ]
  },
  {
   "cell_type": "code",
   "execution_count": 34,
   "metadata": {},
   "outputs": [],
   "source": [
    "import pandas\n",
    "df=pandas.DataFrame(l)"
   ]
  },
  {
   "cell_type": "code",
   "execution_count": 31,
   "metadata": {},
   "outputs": [
    {
     "data": {
      "text/html": [
       "<div>\n",
       "<style scoped>\n",
       "    .dataframe tbody tr th:only-of-type {\n",
       "        vertical-align: middle;\n",
       "    }\n",
       "\n",
       "    .dataframe tbody tr th {\n",
       "        vertical-align: top;\n",
       "    }\n",
       "\n",
       "    .dataframe thead th {\n",
       "        text-align: right;\n",
       "    }\n",
       "</style>\n",
       "<table border=\"1\" class=\"dataframe\">\n",
       "  <thead>\n",
       "    <tr style=\"text-align: right;\">\n",
       "      <th></th>\n",
       "      <th>Price</th>\n",
       "      <th>Address</th>\n",
       "      <th>Locality</th>\n",
       "      <th>Beds</th>\n",
       "      <th>Area</th>\n",
       "      <th>Full Baths</th>\n",
       "      <th>Half Bath</th>\n",
       "      <th>Lot Size</th>\n",
       "      <th>Hals baths</th>\n",
       "    </tr>\n",
       "  </thead>\n",
       "  <tbody>\n",
       "    <tr>\n",
       "      <th>0</th>\n",
       "      <td>$725,000</td>\n",
       "      <td>0 Gateway</td>\n",
       "      <td>Rock Springs, WY 82901</td>\n",
       "      <td>None</td>\n",
       "      <td>None</td>\n",
       "      <td>None</td>\n",
       "      <td>NaN</td>\n",
       "      <td>NaN</td>\n",
       "      <td>NaN</td>\n",
       "    </tr>\n",
       "    <tr>\n",
       "      <th>1</th>\n",
       "      <td>$452,900</td>\n",
       "      <td>1003 Winchester Blvd.</td>\n",
       "      <td>Rock Springs, WY 82901</td>\n",
       "      <td>4</td>\n",
       "      <td>None</td>\n",
       "      <td>4</td>\n",
       "      <td>NaN</td>\n",
       "      <td>Lot Size:</td>\n",
       "      <td>NaN</td>\n",
       "    </tr>\n",
       "    <tr>\n",
       "      <th>2</th>\n",
       "      <td>$396,900</td>\n",
       "      <td>600 Talladega</td>\n",
       "      <td>Rock Springs, WY 82901</td>\n",
       "      <td>5</td>\n",
       "      <td>3,154</td>\n",
       "      <td>3</td>\n",
       "      <td>NaN</td>\n",
       "      <td>NaN</td>\n",
       "      <td>NaN</td>\n",
       "    </tr>\n",
       "    <tr>\n",
       "      <th>3</th>\n",
       "      <td>$389,900</td>\n",
       "      <td>3239 Spearhead Way</td>\n",
       "      <td>Rock Springs, WY 82901</td>\n",
       "      <td>4</td>\n",
       "      <td>3,076</td>\n",
       "      <td>3</td>\n",
       "      <td>NaN</td>\n",
       "      <td>Lot Size:</td>\n",
       "      <td>1</td>\n",
       "    </tr>\n",
       "    <tr>\n",
       "      <th>4</th>\n",
       "      <td>$254,000</td>\n",
       "      <td>522 Emerald Street</td>\n",
       "      <td>Rock Springs, WY 82901</td>\n",
       "      <td>3</td>\n",
       "      <td>1,172</td>\n",
       "      <td>3</td>\n",
       "      <td>NaN</td>\n",
       "      <td>Lot Size:</td>\n",
       "      <td>NaN</td>\n",
       "    </tr>\n",
       "    <tr>\n",
       "      <th>5</th>\n",
       "      <td>$252,900</td>\n",
       "      <td>1302 Veteran's Drive</td>\n",
       "      <td>Rock Springs, WY 82901</td>\n",
       "      <td>4</td>\n",
       "      <td>1,932</td>\n",
       "      <td>2</td>\n",
       "      <td>NaN</td>\n",
       "      <td>Lot Size:</td>\n",
       "      <td>NaN</td>\n",
       "    </tr>\n",
       "    <tr>\n",
       "      <th>6</th>\n",
       "      <td>$210,000</td>\n",
       "      <td>1021 Cypress Cir</td>\n",
       "      <td>Rock Springs, WY 82901</td>\n",
       "      <td>4</td>\n",
       "      <td>1,676</td>\n",
       "      <td>3</td>\n",
       "      <td>NaN</td>\n",
       "      <td>Lot Size:</td>\n",
       "      <td>NaN</td>\n",
       "    </tr>\n",
       "    <tr>\n",
       "      <th>7</th>\n",
       "      <td>$209,000</td>\n",
       "      <td>913 Madison Dr</td>\n",
       "      <td>Rock Springs, WY 82901</td>\n",
       "      <td>3</td>\n",
       "      <td>1,344</td>\n",
       "      <td>2</td>\n",
       "      <td>NaN</td>\n",
       "      <td>Lot Size:</td>\n",
       "      <td>NaN</td>\n",
       "    </tr>\n",
       "    <tr>\n",
       "      <th>8</th>\n",
       "      <td>$199,900</td>\n",
       "      <td>1344 Teton Street</td>\n",
       "      <td>Rock Springs, WY 82901</td>\n",
       "      <td>3</td>\n",
       "      <td>1,920</td>\n",
       "      <td>2</td>\n",
       "      <td>NaN</td>\n",
       "      <td>Lot Size:</td>\n",
       "      <td>NaN</td>\n",
       "    </tr>\n",
       "    <tr>\n",
       "      <th>9</th>\n",
       "      <td>$196,900</td>\n",
       "      <td>4 Minnies Lane</td>\n",
       "      <td>Rock Springs, WY 82901</td>\n",
       "      <td>3</td>\n",
       "      <td>1,664</td>\n",
       "      <td>2</td>\n",
       "      <td>NaN</td>\n",
       "      <td>Lot Size:</td>\n",
       "      <td>NaN</td>\n",
       "    </tr>\n",
       "  </tbody>\n",
       "</table>\n",
       "</div>"
      ],
      "text/plain": [
       "      Price                Address                Locality  Beds   Area  \\\n",
       "0  $725,000              0 Gateway  Rock Springs, WY 82901  None   None   \n",
       "1  $452,900  1003 Winchester Blvd.  Rock Springs, WY 82901     4   None   \n",
       "2  $396,900          600 Talladega  Rock Springs, WY 82901     5  3,154   \n",
       "3  $389,900     3239 Spearhead Way  Rock Springs, WY 82901     4  3,076   \n",
       "4  $254,000     522 Emerald Street  Rock Springs, WY 82901     3  1,172   \n",
       "5  $252,900   1302 Veteran's Drive  Rock Springs, WY 82901     4  1,932   \n",
       "6  $210,000       1021 Cypress Cir  Rock Springs, WY 82901     4  1,676   \n",
       "7  $209,000         913 Madison Dr  Rock Springs, WY 82901     3  1,344   \n",
       "8  $199,900      1344 Teton Street  Rock Springs, WY 82901     3  1,920   \n",
       "9  $196,900         4 Minnies Lane  Rock Springs, WY 82901     3  1,664   \n",
       "\n",
       "  Full Baths  Half Bath    Lot Size Hals baths  \n",
       "0       None        NaN         NaN        NaN  \n",
       "1          4        NaN  Lot Size:         NaN  \n",
       "2          3        NaN         NaN        NaN  \n",
       "3          3        NaN  Lot Size:           1  \n",
       "4          3        NaN  Lot Size:         NaN  \n",
       "5          2        NaN  Lot Size:         NaN  \n",
       "6          3        NaN  Lot Size:         NaN  \n",
       "7          2        NaN  Lot Size:         NaN  \n",
       "8          2        NaN  Lot Size:         NaN  \n",
       "9          2        NaN  Lot Size:         NaN  "
      ]
     },
     "execution_count": 31,
     "metadata": {},
     "output_type": "execute_result"
    }
   ],
   "source": [
    "df"
   ]
  },
  {
   "cell_type": "code",
   "execution_count": 32,
   "metadata": {},
   "outputs": [],
   "source": [
    "df.to_csv(\"output.csv\")"
   ]
  },
  {
   "cell_type": "code",
   "execution_count": 46,
   "metadata": {},
   "outputs": [
    {
     "name": "stdout",
     "output_type": "stream",
     "text": [
      "http://www.pyclass.com/real-estate/rock-springs-wy/LCWYROCKSPRINGS/t=0&s=0\n",
      "<!DOCTYPE html>\n",
      "<html xmlns=\"http://www.w3.org/1999/xhtml\">\n",
      " <head>\n",
      "  <meta content=\"text/html; charset=utf-8\" http-equiv=\"Content-Type\"/>\n",
      "  <title>\n",
      "   Database Error\n",
      "  </title>\n",
      " </head>\n",
      " <body>\n",
      "  <h1>\n",
      "   Error establishing a database connection\n",
      "  </h1>\n",
      " </body>\n",
      "</html>\n",
      "\n",
      "http://www.pyclass.com/real-estate/rock-springs-wy/LCWYROCKSPRINGS/t=0&s=10\n",
      "<!DOCTYPE html>\n",
      "<html xmlns=\"http://www.w3.org/1999/xhtml\">\n",
      " <head>\n",
      "  <meta content=\"text/html; charset=utf-8\" http-equiv=\"Content-Type\"/>\n",
      "  <title>\n",
      "   Database Error\n",
      "  </title>\n",
      " </head>\n",
      " <body>\n",
      "  <h1>\n",
      "   Error establishing a database connection\n",
      "  </h1>\n",
      " </body>\n",
      "</html>\n",
      "\n",
      "http://www.pyclass.com/real-estate/rock-springs-wy/LCWYROCKSPRINGS/t=0&s=20\n",
      "<!DOCTYPE html>\n",
      "<html xmlns=\"http://www.w3.org/1999/xhtml\">\n",
      " <head>\n",
      "  <meta content=\"text/html; charset=utf-8\" http-equiv=\"Content-Type\"/>\n",
      "  <title>\n",
      "   Database Error\n",
      "  </title>\n",
      " </head>\n",
      " <body>\n",
      "  <h1>\n",
      "   Error establishing a database connection\n",
      "  </h1>\n",
      " </body>\n",
      "</html>\n",
      "\n"
     ]
    }
   ],
   "source": [
    "base_url =\"http://www.pyclass.com/real-estate/rock-springs-wy/LCWYROCKSPRINGS/t=0&s=\"\n",
    "for page in range(0,30,10):\n",
    "    print(base_url+str(page))\n",
    "    r=requests.get(base_url+str(page), headers={'User-agent': 'Mozilla/5.0 (X11; Ubuntu; Linux x86_64; rv:61.0) Gecko/20100101 Firefox/61.0'})\n",
    "    c=r.content\n",
    "    soup=BeautifulSoup(c,\"html.parser\")\n",
    "    print(soup.prettify())"
   ]
  },
  {
   "cell_type": "code",
   "execution_count": null,
   "metadata": {},
   "outputs": [],
   "source": []
  }
 ],
 "metadata": {
  "kernelspec": {
   "display_name": "Python 3.5.2 64-bit",
   "language": "python",
   "name": "python35264bitb4105fd8fc2d4821a6b68d52c641128c"
  },
  "language_info": {
   "codemirror_mode": {
    "name": "ipython",
    "version": 3
   },
   "file_extension": ".py",
   "mimetype": "text/x-python",
   "name": "python",
   "nbconvert_exporter": "python",
   "pygments_lexer": "ipython3",
   "version": "3.6.10"
  }
 },
 "nbformat": 4,
 "nbformat_minor": 4
}
